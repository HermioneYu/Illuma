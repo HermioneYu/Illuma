{
 "cells": [
  {
   "cell_type": "code",
   "execution_count": 1,
   "metadata": {
    "collapsed": true
   },
   "outputs": [],
   "source": [
    "from langdetect import detect"
   ]
  },
  {
   "cell_type": "code",
   "execution_count": 2,
   "metadata": {},
   "outputs": [
    {
     "name": "stdout",
     "output_type": "stream",
     "text": [
      "Type anything:hello how are you\n",
      "the langurage you are using is:en\n"
     ]
    }
   ],
   "source": [
    "text = input('Type anything:')\n",
    "detect(text)\n",
    "print ('the langurage you are using is:' + detect(text))"
   ]
  },
  {
   "cell_type": "code",
   "execution_count": 3,
   "metadata": {},
   "outputs": [
    {
     "name": "stdout",
     "output_type": "stream",
     "text": [
      "Type anything:大家好你们好\n",
      "{'key': 'ef5ef5d34e8666e1f03a9269256ec52b', 'txt': '大家好你们好'}\n",
      "{\"status\":{\"code\":\"0\",\"msg\":\"OK\",\"credits\":\"1\",\"remaining_credits\":\"19984\"},\"language_list\":[{\"language\":\"zh\",\"relevance\":100,\"name\":\"Mandarin Chinese\",\"iso639-3\":\"cmn\",\"iso639-2\":\"zh\"}]}\n"
     ]
    }
   ],
   "source": [
    "import requests\n",
    "\n",
    "url = \"http://api.meaningcloud.com/lang-2.0\"\n",
    "text = input('Type anything:')\n",
    "#text1 = text.replace(' ', '%20')\n",
    "payload = {'key':'ef5ef5d34e8666e1f03a9269256ec52b','txt':text} \n",
    "print(payload)\n",
    "headers = {'content-type': 'application/x-www-form-urlencoded'}\n",
    "\n",
    "response = requests.request(\"POST\", url, data=payload, headers=headers)\n",
    "\n",
    "print(response.text)"
   ]
  },
  {
   "cell_type": "code",
   "execution_count": 1,
   "metadata": {},
   "outputs": [
    {
     "name": "stdout",
     "output_type": "stream",
     "text": [
      "{'key': 'ef5ef5d34e8666e1f03a9269256ec52b', 'doc': {<_io.TextIOWrapper name='/Users/Hermione/Illuma/data/chinese.docx' mode='r' encoding='UTF-8'>}}\n",
      "{\"status\":{\"code\":\"200\",\"msg\":\"Missing required parameter(s): txt, url, doc\",\"credits\":\"0\",\"remaining_credits\":\"19973\"}}\n"
     ]
    }
   ],
   "source": [
    "import requests\n",
    "\n",
    "url = \"http://api.meaningcloud.com/lang-2.0\"\n",
    "files = {open('/Users/Hermione/Illuma/data/chinese.docx','r')}\n",
    "payload = {'key':'ef5ef5d34e8666e1f03a9269256ec52b','doc':files} \n",
    "\n",
    "print(payload)\n",
    "headers = {'content-type': 'application/x-www-form-urlencoded'}\n",
    "\n",
    "response = requests.request(\"POST\", url, data=payload, headers=headers)\n",
    "\n",
    "print(response.text)"
   ]
  },
  {
   "cell_type": "code",
   "execution_count": 31,
   "metadata": {},
   "outputs": [
    {
     "name": "stdout",
     "output_type": "stream",
     "text": [
      "{\"status\":{\"code\":\"200\",\"msg\":\"Missing required parameter(s): txt, url, doc\",\"credits\":\"0\",\"remaining_credits\":\"19974\"}}\n"
     ]
    }
   ],
   "source": [
    "import requests\n",
    "\n",
    "url = \"http://api.meaningcloud.com/lang-2.0\"\n",
    "\n",
    "payload = \"key=ef5ef5d34e8666e1f03a9269256ec52b&doc=/Users/Hermione/Offsitetask/data/&doc=chinese.docx\"\n",
    "headers = {'content-type': 'application/x-www-form-urlencoded'}\n",
    "\n",
    "response = requests.request(\"POST\", url, data=payload, headers=headers)\n",
    "\n",
    "print(response.text)"
   ]
  },
  {
   "cell_type": "code",
   "execution_count": null,
   "metadata": {
    "collapsed": true
   },
   "outputs": [],
   "source": []
  }
 ],
 "metadata": {
  "kernelspec": {
   "display_name": "Python 3",
   "language": "python",
   "name": "python3"
  },
  "language_info": {
   "codemirror_mode": {
    "name": "ipython",
    "version": 3
   },
   "file_extension": ".py",
   "mimetype": "text/x-python",
   "name": "python",
   "nbconvert_exporter": "python",
   "pygments_lexer": "ipython3",
   "version": "3.6.0"
  }
 },
 "nbformat": 4,
 "nbformat_minor": 2
}
